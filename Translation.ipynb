{
 "cells": [
  {
   "cell_type": "code",
   "execution_count": 1,
   "metadata": {},
   "outputs": [],
   "source": [
    "import numpy as np\n",
    "import json\n",
    "import tensorflow as tf\n",
    "gpu = tf.config.experimental.list_physical_devices('GPU')[0]\n",
    "tf.config.experimental.set_memory_growth(gpu, True)"
   ]
  },
  {
   "cell_type": "markdown",
   "metadata": {},
   "source": [
    "### Helper Function"
   ]
  },
  {
   "cell_type": "code",
   "execution_count": 2,
   "metadata": {},
   "outputs": [],
   "source": [
    "def load_json(filename):\n",
    "    with open(filename, 'r') as f:\n",
    "        data = json.load(f)\n",
    "    return data\n",
    "\n",
    "def json_save(filename, data):\n",
    "    with open(filename, 'w') as f:\n",
    "        json.dump(data, f, indent= 4)"
   ]
  },
  {
   "cell_type": "code",
   "execution_count": 3,
   "metadata": {},
   "outputs": [],
   "source": [
    "def encode_input(input_text, input_encoder, sequence_length = 13):\n",
    "    x = np.zeros((len(input_text), sequence_length, len(input_encoder)), dtype=\"float32\")\n",
    "    \n",
    "    for i, inp in enumerate(input_text):\n",
    "        for t, char in enumerate(inp):\n",
    "            x[i, t, input_encoder[char]] = 1.0\n",
    "        x[i, t+1:, input_encoder[' ']] = 1.0\n",
    "    return x"
   ]
  },
  {
   "cell_type": "code",
   "execution_count": 4,
   "metadata": {},
   "outputs": [],
   "source": [
    "def encode_target(target_text, target_encoder, sequence_length = 59):\n",
    "    x = np.zeros((len(target_text), sequence_length, len(target_encoder)), dtype=\"float32\")\n",
    "    y = np.zeros((len(target_text), sequence_length, len(target_encoder)), dtype=\"float32\")\n",
    "    \n",
    "    for i, inp in enumerate(target_text):\n",
    "        for t, char in enumerate(inp):\n",
    "            x[i, t, target_encoder[char]] = 1.0\n",
    "            if t > 0:\n",
    "                y[i, t - 1, target_encoder[char]] = 1.0\n",
    "        x[i, t + 1 :, target_encoder[\" \"]] = 1.0\n",
    "        y[i, t:, target_encoder[\" \"]] = 1.0\n",
    "    return x, y"
   ]
  },
  {
   "cell_type": "code",
   "execution_count": 5,
   "metadata": {},
   "outputs": [],
   "source": [
    "input_encoder = load_json('data/input-encoder.json')\n",
    "target_encoder = load_json('data/target-encoder.json')"
   ]
  },
  {
   "cell_type": "code",
   "execution_count": 6,
   "metadata": {},
   "outputs": [],
   "source": [
    "input_decoder = dict((i, char) for char, i in input_encoder.items())\n",
    "target_decoder = dict((i, char) for char, i in target_encoder.items())"
   ]
  },
  {
   "cell_type": "code",
   "execution_count": 7,
   "metadata": {},
   "outputs": [],
   "source": [
    "json_save('data/input_decoder.json', input_decoder)\n",
    "json_save('data/target_decoder.json', target_decoder)"
   ]
  },
  {
   "cell_type": "markdown",
   "metadata": {},
   "source": [
    "### *Loading Model*"
   ]
  },
  {
   "cell_type": "code",
   "execution_count": 8,
   "metadata": {},
   "outputs": [],
   "source": [
    "model = tf.keras.models.load_model('Eng2Fre.h5')"
   ]
  },
  {
   "cell_type": "markdown",
   "metadata": {},
   "source": [
    "### *Inference Model*"
   ]
  },
  {
   "cell_type": "code",
   "execution_count": 9,
   "metadata": {},
   "outputs": [],
   "source": [
    "encoder_inputs = model.input[0]  # encoder input\n",
    "encoder_outputs, state_h_enc, state_c_enc = model.layers[2].output  # encoder layer\n",
    "encoder_states = [state_h_enc, state_c_enc]\n",
    "encoder_model = tf.keras.Model(encoder_inputs, encoder_states) # encoder model"
   ]
  },
  {
   "cell_type": "code",
   "execution_count": 10,
   "metadata": {},
   "outputs": [],
   "source": [
    "decoder_inputs = model.input[1]  # decoder input"
   ]
  },
  {
   "cell_type": "code",
   "execution_count": 11,
   "metadata": {},
   "outputs": [],
   "source": [
    "decoder_state_input_h = tf.keras.Input(shape=(256,), name=\"input_3\")\n",
    "decoder_state_input_c = tf.keras.Input(shape=(256,), name=\"input_4\")\n",
    "\n",
    "decoder_states_inputs = [decoder_state_input_h, decoder_state_input_c]"
   ]
  },
  {
   "cell_type": "code",
   "execution_count": 12,
   "metadata": {},
   "outputs": [],
   "source": [
    "decoder_lstm = model.layers[3] # decoder lstm layer"
   ]
  },
  {
   "cell_type": "code",
   "execution_count": 13,
   "metadata": {},
   "outputs": [],
   "source": [
    "decoder_outputs, state_h_dec, state_c_dec = decoder_lstm(decoder_inputs, initial_state=decoder_states_inputs)\n",
    "decoder_states = [state_h_dec, state_c_dec]"
   ]
  },
  {
   "cell_type": "code",
   "execution_count": 14,
   "metadata": {},
   "outputs": [],
   "source": [
    "decoder_dense = model.layers[4]\n",
    "decoder_outputs = decoder_dense(decoder_outputs)"
   ]
  },
  {
   "cell_type": "code",
   "execution_count": 15,
   "metadata": {},
   "outputs": [],
   "source": [
    "decoder_model = tf.keras.Model([decoder_inputs] + decoder_states_inputs, [decoder_outputs] + decoder_states)"
   ]
  },
  {
   "cell_type": "markdown",
   "metadata": {},
   "source": [
    "### *Prediction*"
   ]
  },
  {
   "cell_type": "code",
   "execution_count": 16,
   "metadata": {},
   "outputs": [],
   "source": [
    "def predict(ip, target_decoder, max_tarlength= 123):\n",
    "    states_value = encoder_model.predict(ip)\n",
    "\n",
    "    target_seq = np.zeros((1, 1, len(target_decoder)))\n",
    "    target_seq[0, 0, target_encoder[\"\\t\"]] = 1.0\n",
    "\n",
    "    stop_condition = False\n",
    "    decoded_sentence = \"\"\n",
    "\n",
    "    while not stop_condition:\n",
    "        output, h, c = decoder_model.predict([target_seq] + states_value)\n",
    "\n",
    "        output_index = np.argmax(output[0, -1, :])\n",
    "        pred_char = target_decoder[output_index]\n",
    "        decoded_sentence += pred_char\n",
    "\n",
    "        if pred_char == \"\\n\" or len(decoded_sentence) > max_tarlength:\n",
    "            stop_condition = True\n",
    "\n",
    "        # Update the target sequence (of length 1).\n",
    "        target_seq = np.zeros((1, 1, len(target_decoder)))\n",
    "        target_seq[0, 0, output_index] = 1.0\n",
    "        # Update states\n",
    "        states_value = [h, c]\n",
    "    return decoded_sentence"
   ]
  },
  {
   "cell_type": "code",
   "execution_count": 18,
   "metadata": {},
   "outputs": [],
   "source": [
    "input_text = encode_input(['Go.'],input_encoder)"
   ]
  },
  {
   "cell_type": "code",
   "execution_count": 19,
   "metadata": {},
   "outputs": [
    {
     "name": "stdout",
     "output_type": "stream",
     "text": [
      "Tous !\n",
      "\n"
     ]
    }
   ],
   "source": [
    "sentence = predict(input_text, target_decoder)\n",
    "print(sentence)"
   ]
  }
 ],
 "metadata": {
  "kernelspec": {
   "display_name": "Python 3",
   "language": "python",
   "name": "python3"
  },
  "language_info": {
   "codemirror_mode": {
    "name": "ipython",
    "version": 3
   },
   "file_extension": ".py",
   "mimetype": "text/x-python",
   "name": "python",
   "nbconvert_exporter": "python",
   "pygments_lexer": "ipython3",
   "version": "3.7.6"
  }
 },
 "nbformat": 4,
 "nbformat_minor": 4
}
